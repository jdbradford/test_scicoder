{
 "metadata": {
  "name": "",
  "signature": "sha256:116bfea416070e832412bd080160a421783a1b5e345e8a67d18b85f1b1ada443"
 },
 "nbformat": 3,
 "nbformat_minor": 0,
 "worksheets": []
}